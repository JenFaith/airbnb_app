{
 "cells": [
  {
   "cell_type": "markdown",
   "id": "starting-story",
   "metadata": {},
   "source": [
    "## Key Takeaways from Initial Data Analysis\n",
    "- There don't seem to be any consistencies with the missing bathroom/bedroom data. I believe it was simply never input into the airbnb listing. Therefore, I chose to delete out those listings.\n",
    "- Almost all (15,827 out of 15,835) \"last_review\" and \"first review\" are because there are no reviews. These columns are dates. Cut these columns since \"host_since\" had less missing data and essentially fills the same aspect of understandinig how long the airbnb has been around for.\n",
    "- All null \"review_scores_rating\" are caused by no reviews. Therefore, I've inserted \"no reviews\" into column\n",
    "- Almost all of the reviews contain images. This could make a cool project to analyze how thumbnail images affect price. Most likely not useful for our project.\n",
    "- Created new columns based on extracted text from \"ammenities\" column\n",
    "- For 180 NaN's in \"host has no profile picture.\" I decided to just assumed there was no image and set value to false "
   ]
  },
  {
   "cell_type": "code",
   "execution_count": 8,
   "id": "governing-market",
   "metadata": {},
   "outputs": [],
   "source": [
    "# Import Statements\n",
    "from datetime import datetime\n",
    "import pandas as pd\n",
    "import numpy as np\n",
    "from PIL import Image\n",
    "import requests"
   ]
  },
  {
   "cell_type": "code",
   "execution_count": 9,
   "id": "systematic-century",
   "metadata": {},
   "outputs": [],
   "source": [
    "# Import files\n",
    "train = pd.read_csv(\"data/archive-2/train.csv\", index_col='id')\n",
    "test = pd.read_csv(\"data/archive-2/test.csv\", index_col='id')"
   ]
  },
  {
   "cell_type": "code",
   "execution_count": 10,
   "id": "representative-annotation",
   "metadata": {},
   "outputs": [],
   "source": [
    "train_before = train.shape"
   ]
  },
  {
   "cell_type": "code",
   "execution_count": 11,
   "id": "curious-graduation",
   "metadata": {},
   "outputs": [],
   "source": [
    "test_before = test.shape"
   ]
  },
  {
   "cell_type": "code",
   "execution_count": 12,
   "id": "liquid-bearing",
   "metadata": {},
   "outputs": [],
   "source": [
    "def cleaned_dataframe(df):\n",
    "    \"\"\"\n",
    "    1. Adds feature columns to df\n",
    "    2. Deals with all null values\n",
    "    3. Turns ratings into categorical column\n",
    "    4. Converts \"Host_since\" into a measure of time\n",
    "    \"\"\" \n",
    "    features = ['Wireless Internet','Air conditioning', 'Kitchen', 'Heating','Family/kid friendly', 'Essentials', 'Hair dryer', 'Iron', \n",
    "                'Smoke detector', 'Shampoo', 'Hangers', 'Hair dryer', 'Fire extinguisher', 'Laptop friendly workspace', 'First aid kit', 'Indoor fireplace',\n",
    "                'TV','Cable TV', 'Elevator in building']\n",
    "    \n",
    "    # forloop to create all new columns\n",
    "    for item in features:\n",
    "        df[item]=np.where(df['amenities'].str.contains(item), 1, 0)\n",
    "    \n",
    "    # drop unnecessary column & columns with no host information\n",
    "    # neighborhood will be dictated by zip and latitude/longitude\n",
    "    df.drop(columns=['amenities', 'first_review', 'last_review', 'host_response_rate', 'neighbourhood'], axis=1, inplace=True)\n",
    "    \n",
    "    # drop rows with null values in certain columns\n",
    "    df = df.dropna(axis=0, subset=['bathrooms', 'bedrooms', 'beds'])\n",
    "    \n",
    "    # dropped rows with no host information or now zip code\n",
    "    df = df.dropna(axis=0, subset=['host_since', 'host_identity_verified', 'zipcode'])\n",
    "    \n",
    "    # Dealing with ratings column\n",
    "    # Zero isn't a real rating in the columns\n",
    "    # Temporarily assign rating_score with no previous reviews as 0 so it can later make it a category\n",
    "    df['review_scores_rating']=np.where(df['number_of_reviews']==0, 0, df['review_scores_rating'])\n",
    "    \n",
    "    # drop remaining 800 rows with no values\n",
    "    df = df.dropna(axis=0, subset=['review_scores_rating'])\n",
    "    \n",
    "    # change reviews into categories\n",
    "    df['review_scores_rating'] = df['review_scores_rating'].round(-1).astype('int').astype('str')\n",
    "    \n",
    "    # reassign 0 ratings as \"no past ratings\" category\n",
    "    df['review_scores_rating']=np.where(df['number_of_reviews']==0, 'no past ratings', df['review_scores_rating'])\n",
    "    \n",
    "    # Convert \"host_since\" into column that measures # of days an individual has been a host\n",
    "    for i in range(len(df['host_since'])):\n",
    "        today = datetime.today()\n",
    "        date_time_obj = datetime.strptime(df['host_since'].iloc[i], '%Y-%m-%d')\n",
    "        df['host_since'].iloc[i] = (today - date_time_obj).days\n",
    "    \n",
    "    # Convert \"host_since\" from object to int\n",
    "    df['host_since'] = df['host_since'].astype('int')\n",
    "    \n",
    "    #drop columns with low correlation\n",
    "    df.drop(columns=['latitude', 'longitude', 'Smoke detector', 'number_of_reviews', 'Hangers','First aid kit', 'Elevator in building', 'Essentials', 'zipcode', 'thumbnail_url', 'description', 'name'], axis=1, inplace=True)\n",
    "    return df"
   ]
  },
  {
   "cell_type": "code",
   "execution_count": 13,
   "id": "shaped-methodology",
   "metadata": {},
   "outputs": [],
   "source": [
    "train = cleaned_dataframe(train)"
   ]
  },
  {
   "cell_type": "code",
   "execution_count": 14,
   "id": "domestic-chick",
   "metadata": {},
   "outputs": [],
   "source": [
    "test = cleaned_dataframe(test)"
   ]
  },
  {
   "cell_type": "code",
   "execution_count": 15,
   "id": "sapphire-softball",
   "metadata": {},
   "outputs": [
    {
     "output_type": "stream",
     "name": "stdout",
     "text": [
      "We cut 2353 data points when cleaning data leaving 71758 data points.\n"
     ]
    }
   ],
   "source": [
    "# Statement on cut data\n",
    "train_after = train.shape\n",
    "lost_rows = train_before[0]-train_after[0]\n",
    "print(\"We cut\", lost_rows, \"data points when cleaning data leaving\",train_after[0],\"data points.\")"
   ]
  },
  {
   "cell_type": "code",
   "execution_count": null,
   "id": "regional-attraction",
   "metadata": {},
   "outputs": [],
   "source": [
    "# Export CSV Files"
   ]
  },
  {
   "cell_type": "code",
   "execution_count": 20,
   "id": "difficult-abraham",
   "metadata": {},
   "outputs": [],
   "source": [
    "train.to_csv('./data/archive-2/train_2.csv')"
   ]
  },
  {
   "cell_type": "code",
   "execution_count": 21,
   "id": "suffering-cooking",
   "metadata": {},
   "outputs": [],
   "source": [
    "test.to_csv('./data/archive-2/test_2.csv')"
   ]
  },
  {
   "cell_type": "code",
   "execution_count": null,
   "metadata": {},
   "outputs": [],
   "source": []
  }
 ],
 "metadata": {
  "kernelspec": {
   "name": "python3",
   "display_name": "Python 3.8.5 64-bit ('airbnb_app': pipenv)",
   "metadata": {
    "interpreter": {
     "hash": "6f7628a801a2fb262aba93d5bd06f0e446192647146d176552ea5395b2acc76d"
    }
   }
  },
  "language_info": {
   "codemirror_mode": {
    "name": "ipython",
    "version": 3
   },
   "file_extension": ".py",
   "mimetype": "text/x-python",
   "name": "python",
   "nbconvert_exporter": "python",
   "pygments_lexer": "ipython3",
   "version": "3.8.5-final"
  }
 },
 "nbformat": 4,
 "nbformat_minor": 5
}