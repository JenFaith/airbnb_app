{
 "cells": [
  {
   "cell_type": "markdown",
   "id": "alpha-difference",
   "metadata": {},
   "source": [
    "## Key Takeaways from Initial Data Analysis\n",
    "- There don't seem to be any consistencies with the missing bathroom/bedroom data. I believe it was simply never input into the airbnb listing. Therefore, I chose to delete out those listings.\n",
    "- Almost all (15,827 out of 15,835) \"last_review\" and \"first review\" are because there are no reviews. These columns are dates. Cut these columns since \"host_since\" had less missing data and essentially fills the same aspect of understandinig how long the airbnb has been around for.\n",
    "- All null \"review_scores_rating\" are caused by no reviews. Therefore, I've inserted \"no reviews\" into column\n",
    "- Almost all of the reviews contain images. This could make a cool project to analyze how thumbnail images affect price. Most likely not useful for our project.\n",
    "- Created new columns based on extracted text from \"ammenities\" column\n",
    "- For 180 NaN's in \"host has no profile picture.\" I decided to just assumed there was no image and set value to false "
   ]
  },
  {
   "cell_type": "code",
   "execution_count": 10,
   "id": "proper-bobby",
   "metadata": {},
   "outputs": [],
   "source": [
    "# Import Statements\n",
    "from datetime import datetime\n",
    "import pandas as pd\n",
    "import numpy as np\n",
    "from PIL import Image\n",
    "import requests\n",
    "import datetime\n",
    "from datetime import datetime"
   ]
  },
  {
   "cell_type": "code",
   "execution_count": 2,
   "id": "martial-profession",
   "metadata": {},
   "outputs": [],
   "source": [
    "# Import files\n",
    "train = pd.read_csv(\"archive-2/train.csv\", index_col='id')\n",
    "test = pd.read_csv(\"archive-2/test.csv\", index_col='id')"
   ]
  },
  {
   "cell_type": "code",
   "execution_count": 13,
   "id": "former-invention",
   "metadata": {},
   "outputs": [],
   "source": [
    "train_before = train.shape"
   ]
  },
  {
   "cell_type": "code",
   "execution_count": 14,
   "id": "informative-sheriff",
   "metadata": {},
   "outputs": [],
   "source": [
    "test_before = test.shape"
   ]
  },
  {
   "cell_type": "code",
   "execution_count": 15,
   "id": "oriented-undergraduate",
   "metadata": {},
   "outputs": [],
   "source": [
    "def cleaned_dataframe(df):\n",
    "    \"\"\"\n",
    "    1. Adds feature columns to df\n",
    "    2. Deals with all null values\n",
    "    3. Turns ratings into categorical column\n",
    "    4. Converts \"Host_since\" into a measure of time\n",
    "    \"\"\" \n",
    "    features = ['Wireless Internet','Air conditioning', 'Kitchen', 'Heating','Family/kid friendly', 'Essentials', 'Hair dryer', 'Iron', \n",
    "                'Smoke detector', 'Shampoo', 'Hangers', 'Hair dryer', 'Fire extinguisher', 'Laptop friendly workspace', 'First aid kit', 'Indoor fireplace',\n",
    "                'TV','Cable TV', 'Elevator in building']\n",
    "    \n",
    "    # forloop to create all new columns\n",
    "    for item in features:\n",
    "        df[item]=np.where(df['amenities'].str.contains(item), 1, 0)\n",
    "        \n",
    "        \n",
    "    # drop unnecessary column & columns with no host information\n",
    "    # neighborhood will be dictated by zip and latitude/longitude\n",
    "    df.drop(columns=['amenities', 'first_review', 'last_review', 'host_response_rate', 'neighbourhood'], axis=1, inplace=True)\n",
    "    \n",
    "    # drop rows with null values in certain columns\n",
    "    df = df.dropna(axis=0, subset=['bathrooms', 'bedrooms', 'beds'])\n",
    "    \n",
    "    # dropped rows with no host information or now zip code\n",
    "    df = df.dropna(axis=0, subset=['host_since', 'host_identity_verified', 'zipcode'])\n",
    "    \n",
    "    # Dealing with ratings column\n",
    "    # Zero isn't a real rating in the columns\n",
    "    # Temporarily assign rating_score with no previous reviews as 0 so it can later make it a category\n",
    "    df['review_scores_rating']=np.where(df['number_of_reviews']==0, 0, df['review_scores_rating'])\n",
    "    \n",
    "    # drop remaining 800 rows with no values\n",
    "    df = df.dropna(axis=0, subset=['review_scores_rating'])\n",
    "    \n",
    "    # change reviews into categories\n",
    "    df['review_scores_rating'] = df['review_scores_rating'].round(-1).astype('int').astype('str')\n",
    "    \n",
    "    # reassign 0 ratings as \"no past ratings\" category\n",
    "    df['review_scores_rating']=np.where(df['number_of_reviews']==0, 'no past ratings', df['review_scores_rating'])\n",
    "    \n",
    "    # Convert \"host_since\" into column that measures # of days an individual has been a host\n",
    "    for i in range(len(df['host_since'])):\n",
    "        today = datetime.today()\n",
    "        date_time_obj = datetime.strptime(df['host_since'].iloc[i], '%Y-%m-%d')\n",
    "        df['host_since'].iloc[i] = (today - date_time_obj).days\n",
    "    \n",
    "    # Convert \"host_since\" from object to int\n",
    "    df['host_since'] = df['host_since'].astype('int')\n",
    "    \n",
    "    \n",
    "    #drop columns with low correlation\n",
    "    df.drop(columns=['latitude', 'longitude', 'Smoke detector', 'number_of_reviews', 'Hangers','First aid kit', 'Elevator in building', 'Essentials', 'zipcode', 'thumbnail_url', 'description', 'name'], axis=1, inplace=True)\n",
    "    return df"
   ]
  },
  {
   "cell_type": "code",
   "execution_count": 16,
   "id": "decimal-signature",
   "metadata": {
    "scrolled": false
   },
   "outputs": [
    {
     "name": "stderr",
     "output_type": "stream",
     "text": [
      "/Users/jenniferquigley/.local/share/virtualenvs/airbnb_app-D98Xun1I/lib/python3.8/site-packages/pandas/core/indexing.py:1637: SettingWithCopyWarning: \n",
      "A value is trying to be set on a copy of a slice from a DataFrame\n",
      "\n",
      "See the caveats in the documentation: https://pandas.pydata.org/pandas-docs/stable/user_guide/indexing.html#returning-a-view-versus-a-copy\n",
      "  self._setitem_single_block(indexer, value, name)\n"
     ]
    }
   ],
   "source": [
    "train = cleaned_dataframe(train)"
   ]
  },
  {
   "cell_type": "code",
   "execution_count": 17,
   "id": "polar-christopher",
   "metadata": {},
   "outputs": [
    {
     "name": "stderr",
     "output_type": "stream",
     "text": [
      "/Users/jenniferquigley/.local/share/virtualenvs/airbnb_app-D98Xun1I/lib/python3.8/site-packages/pandas/core/indexing.py:1637: SettingWithCopyWarning: \n",
      "A value is trying to be set on a copy of a slice from a DataFrame\n",
      "\n",
      "See the caveats in the documentation: https://pandas.pydata.org/pandas-docs/stable/user_guide/indexing.html#returning-a-view-versus-a-copy\n",
      "  self._setitem_single_block(indexer, value, name)\n"
     ]
    }
   ],
   "source": [
    "test = cleaned_dataframe(test)"
   ]
  },
  {
   "cell_type": "code",
   "execution_count": 18,
   "id": "foster-point",
   "metadata": {},
   "outputs": [
    {
     "output_type": "stream",
     "name": "stdout",
     "text": [
      "We cut 2353 data points when cleaning data leaving 71758 data points.\n"
     ]
    }
   ],
   "source": [
    "# Statement on cut data\n",
    "train_after = train.shape\n",
    "lost_rows = train_before[0]-train_after[0]\n",
    "print(\"We cut\", lost_rows, \"data points when cleaning data leaving\",train_after[0],\"data points.\")"
   ]
  },
  {
   "cell_type": "code",
   "execution_count": 20,
   "id": "engaged-england",
   "metadata": {
    "scrolled": true
   },
   "outputs": [],
   "source": [
    "# Each column contains image of airbnb\n",
    "\n",
    "# def image_look(pick_a_row):\n",
    "#     url = train['thumbnail_url'].iloc[pick_a_row]\n",
    "#     im = Image.open(requests.get(url, stream=True).raw)\n",
    "#     return im\n",
    "\n",
    "# image_look(12304)"
   ]
  },
  {
   "cell_type": "code",
   "execution_count": null,
   "id": "elect-discussion",
   "metadata": {},
   "outputs": [],
   "source": [
    "# Export CSV Files"
   ]
  },
  {
   "cell_type": "code",
   "execution_count": null,
   "id": "informed-zoning",
   "metadata": {},
   "outputs": [],
   "source": [
    "train.to_csv('train_2.csv')"
   ]
  },
  {
   "cell_type": "code",
   "execution_count": null,
   "id": "floral-telling",
   "metadata": {},
   "outputs": [],
   "source": [
    "test.to_csv('test_2.csv')"
   ]
  },
  {
   "cell_type": "markdown",
   "id": "bearing-juvenile",
   "metadata": {},
   "source": [
    "## The Models"
   ]
  },
  {
   "cell_type": "code",
   "execution_count": 21,
   "id": "broke-opening",
   "metadata": {
    "scrolled": false
   },
   "outputs": [
    {
     "data": {
      "text/html": [
       "<div>\n",
       "<style scoped>\n",
       "    .dataframe tbody tr th:only-of-type {\n",
       "        vertical-align: middle;\n",
       "    }\n",
       "\n",
       "    .dataframe tbody tr th {\n",
       "        vertical-align: top;\n",
       "    }\n",
       "\n",
       "    .dataframe thead th {\n",
       "        text-align: right;\n",
       "    }\n",
       "</style>\n",
       "<table border=\"1\" class=\"dataframe\">\n",
       "  <thead>\n",
       "    <tr style=\"text-align: right;\">\n",
       "      <th></th>\n",
       "      <th>log_price</th>\n",
       "      <th>property_type</th>\n",
       "      <th>room_type</th>\n",
       "      <th>accommodates</th>\n",
       "      <th>bathrooms</th>\n",
       "      <th>bed_type</th>\n",
       "      <th>cancellation_policy</th>\n",
       "      <th>cleaning_fee</th>\n",
       "      <th>city</th>\n",
       "      <th>host_has_profile_pic</th>\n",
       "      <th>...</th>\n",
       "      <th>Heating</th>\n",
       "      <th>Family/kid friendly</th>\n",
       "      <th>Hair dryer</th>\n",
       "      <th>Iron</th>\n",
       "      <th>Shampoo</th>\n",
       "      <th>Fire extinguisher</th>\n",
       "      <th>Laptop friendly workspace</th>\n",
       "      <th>Indoor fireplace</th>\n",
       "      <th>TV</th>\n",
       "      <th>Cable TV</th>\n",
       "    </tr>\n",
       "    <tr>\n",
       "      <th>id</th>\n",
       "      <th></th>\n",
       "      <th></th>\n",
       "      <th></th>\n",
       "      <th></th>\n",
       "      <th></th>\n",
       "      <th></th>\n",
       "      <th></th>\n",
       "      <th></th>\n",
       "      <th></th>\n",
       "      <th></th>\n",
       "      <th></th>\n",
       "      <th></th>\n",
       "      <th></th>\n",
       "      <th></th>\n",
       "      <th></th>\n",
       "      <th></th>\n",
       "      <th></th>\n",
       "      <th></th>\n",
       "      <th></th>\n",
       "      <th></th>\n",
       "      <th></th>\n",
       "    </tr>\n",
       "  </thead>\n",
       "  <tbody>\n",
       "    <tr>\n",
       "      <th>6901257</th>\n",
       "      <td>5.010635</td>\n",
       "      <td>Apartment</td>\n",
       "      <td>Entire home/apt</td>\n",
       "      <td>3</td>\n",
       "      <td>1.0</td>\n",
       "      <td>Real Bed</td>\n",
       "      <td>strict</td>\n",
       "      <td>True</td>\n",
       "      <td>NYC</td>\n",
       "      <td>t</td>\n",
       "      <td>...</td>\n",
       "      <td>1</td>\n",
       "      <td>1</td>\n",
       "      <td>1</td>\n",
       "      <td>1</td>\n",
       "      <td>0</td>\n",
       "      <td>0</td>\n",
       "      <td>0</td>\n",
       "      <td>0</td>\n",
       "      <td>0</td>\n",
       "      <td>0</td>\n",
       "    </tr>\n",
       "  </tbody>\n",
       "</table>\n",
       "<p>1 rows × 29 columns</p>\n",
       "</div>"
      ],
      "text/plain": [
       "         log_price property_type        room_type  accommodates  bathrooms  \\\n",
       "id                                                                           \n",
       "6901257   5.010635     Apartment  Entire home/apt             3        1.0   \n",
       "\n",
       "         bed_type cancellation_policy  cleaning_fee city host_has_profile_pic  \\\n",
       "id                                                                              \n",
       "6901257  Real Bed              strict          True  NYC                    t   \n",
       "\n",
       "         ... Heating  Family/kid friendly Hair dryer Iron  Shampoo  \\\n",
       "id       ...                                                         \n",
       "6901257  ...       1                    1          1    1        0   \n",
       "\n",
       "         Fire extinguisher  Laptop friendly workspace  Indoor fireplace  TV  \\\n",
       "id                                                                            \n",
       "6901257                  0                          0                 0   0   \n",
       "\n",
       "         Cable TV  \n",
       "id                 \n",
       "6901257         0  \n",
       "\n",
       "[1 rows x 29 columns]"
      ]
     },
     "execution_count": 21,
     "metadata": {},
     "output_type": "execute_result"
    }
   ],
   "source": [
    "train.head(1)"
   ]
  },
  {
   "cell_type": "code",
   "execution_count": 22,
   "id": "direct-press",
   "metadata": {
    "scrolled": true
   },
   "outputs": [
    {
     "data": {
      "text/plain": [
       "log_price                    float64\n",
       "property_type                 object\n",
       "room_type                     object\n",
       "accommodates                   int64\n",
       "bathrooms                    float64\n",
       "bed_type                      object\n",
       "cancellation_policy           object\n",
       "cleaning_fee                    bool\n",
       "city                          object\n",
       "host_has_profile_pic          object\n",
       "host_identity_verified        object\n",
       "host_since                     int64\n",
       "instant_bookable              object\n",
       "review_scores_rating          object\n",
       "bedrooms                     float64\n",
       "beds                         float64\n",
       "Wireless Internet              int64\n",
       "Air conditioning               int64\n",
       "Kitchen                        int64\n",
       "Heating                        int64\n",
       "Family/kid friendly            int64\n",
       "Hair dryer                     int64\n",
       "Iron                           int64\n",
       "Shampoo                        int64\n",
       "Fire extinguisher              int64\n",
       "Laptop friendly workspace      int64\n",
       "Indoor fireplace               int64\n",
       "TV                             int64\n",
       "Cable TV                       int64\n",
       "dtype: object"
      ]
     },
     "execution_count": 22,
     "metadata": {},
     "output_type": "execute_result"
    }
   ],
   "source": [
    "train.dtypes"
   ]
  },
  {
   "cell_type": "code",
   "execution_count": null,
   "id": "convenient-master",
   "metadata": {
    "scrolled": true
   },
   "outputs": [],
   "source": [
    "train.corr()"
   ]
  },
  {
   "cell_type": "code",
   "execution_count": null,
   "id": "improved-gross",
   "metadata": {
    "scrolled": true
   },
   "outputs": [],
   "source": [
    "train['review_scores_rating']"
   ]
  },
  {
   "cell_type": "code",
   "execution_count": null,
   "id": "velvet-geometry",
   "metadata": {},
   "outputs": [],
   "source": [
    "import seaborn as sns\n",
    "#sns.pairplot(train)"
   ]
  },
  {
   "cell_type": "code",
   "execution_count": null,
   "id": "regular-enzyme",
   "metadata": {},
   "outputs": [],
   "source": [
    "test.columns"
   ]
  },
  {
   "cell_type": "code",
   "execution_count": null,
   "id": "prime-amendment",
   "metadata": {
    "scrolled": true
   },
   "outputs": [],
   "source": [
    "test.dtypes"
   ]
  },
  {
   "cell_type": "code",
   "execution_count": 23,
   "id": "voluntary-desert",
   "metadata": {},
   "outputs": [],
   "source": [
    "# IMPORTS FOR MODEL\n",
    "from sklearn.metrics import mean_absolute_error\n",
    "from sklearn.pipeline import Pipeline, make_pipeline\n",
    "from sklearn.compose import ColumnTransformer\n",
    "from sklearn.linear_model import LinearRegression\n",
    "from sklearn.feature_selection import SelectKBest, VarianceThreshold\n",
    "from sklearn.preprocessing import StandardScaler, OneHotEncoder, LabelEncoder\n",
    "from sklearn.model_selection import GridSearchCV\n",
    "from sklearn.ensemble import GradientBoostingRegressor, RandomForestRegressor\n",
    "from sklearn.model_selection import train_test_split"
   ]
  },
  {
   "cell_type": "code",
   "execution_count": 24,
   "id": "casual-playing",
   "metadata": {},
   "outputs": [
    {
     "data": {
      "text/html": [
       "<div>\n",
       "<style scoped>\n",
       "    .dataframe tbody tr th:only-of-type {\n",
       "        vertical-align: middle;\n",
       "    }\n",
       "\n",
       "    .dataframe tbody tr th {\n",
       "        vertical-align: top;\n",
       "    }\n",
       "\n",
       "    .dataframe thead th {\n",
       "        text-align: right;\n",
       "    }\n",
       "</style>\n",
       "<table border=\"1\" class=\"dataframe\">\n",
       "  <thead>\n",
       "    <tr style=\"text-align: right;\">\n",
       "      <th></th>\n",
       "      <th>property_type</th>\n",
       "      <th>room_type</th>\n",
       "      <th>accommodates</th>\n",
       "      <th>bathrooms</th>\n",
       "      <th>bed_type</th>\n",
       "      <th>cancellation_policy</th>\n",
       "      <th>cleaning_fee</th>\n",
       "      <th>city</th>\n",
       "      <th>host_has_profile_pic</th>\n",
       "      <th>host_identity_verified</th>\n",
       "      <th>...</th>\n",
       "      <th>Heating</th>\n",
       "      <th>Family/kid friendly</th>\n",
       "      <th>Hair dryer</th>\n",
       "      <th>Iron</th>\n",
       "      <th>Shampoo</th>\n",
       "      <th>Fire extinguisher</th>\n",
       "      <th>Laptop friendly workspace</th>\n",
       "      <th>Indoor fireplace</th>\n",
       "      <th>TV</th>\n",
       "      <th>Cable TV</th>\n",
       "    </tr>\n",
       "    <tr>\n",
       "      <th>id</th>\n",
       "      <th></th>\n",
       "      <th></th>\n",
       "      <th></th>\n",
       "      <th></th>\n",
       "      <th></th>\n",
       "      <th></th>\n",
       "      <th></th>\n",
       "      <th></th>\n",
       "      <th></th>\n",
       "      <th></th>\n",
       "      <th></th>\n",
       "      <th></th>\n",
       "      <th></th>\n",
       "      <th></th>\n",
       "      <th></th>\n",
       "      <th></th>\n",
       "      <th></th>\n",
       "      <th></th>\n",
       "      <th></th>\n",
       "      <th></th>\n",
       "      <th></th>\n",
       "    </tr>\n",
       "  </thead>\n",
       "  <tbody>\n",
       "    <tr>\n",
       "      <th>3895911</th>\n",
       "      <td>Apartment</td>\n",
       "      <td>Private room</td>\n",
       "      <td>2</td>\n",
       "      <td>1.0</td>\n",
       "      <td>Real Bed</td>\n",
       "      <td>flexible</td>\n",
       "      <td>True</td>\n",
       "      <td>LA</td>\n",
       "      <td>t</td>\n",
       "      <td>f</td>\n",
       "      <td>...</td>\n",
       "      <td>1</td>\n",
       "      <td>0</td>\n",
       "      <td>1</td>\n",
       "      <td>1</td>\n",
       "      <td>1</td>\n",
       "      <td>1</td>\n",
       "      <td>1</td>\n",
       "      <td>0</td>\n",
       "      <td>1</td>\n",
       "      <td>1</td>\n",
       "    </tr>\n",
       "  </tbody>\n",
       "</table>\n",
       "<p>1 rows × 28 columns</p>\n",
       "</div>"
      ],
      "text/plain": [
       "        property_type     room_type  accommodates  bathrooms  bed_type  \\\n",
       "id                                                                       \n",
       "3895911     Apartment  Private room             2        1.0  Real Bed   \n",
       "\n",
       "        cancellation_policy  cleaning_fee city host_has_profile_pic  \\\n",
       "id                                                                    \n",
       "3895911            flexible          True   LA                    t   \n",
       "\n",
       "        host_identity_verified  ...  Heating Family/kid friendly Hair dryer  \\\n",
       "id                              ...                                           \n",
       "3895911                      f  ...        1                   0          1   \n",
       "\n",
       "         Iron  Shampoo  Fire extinguisher  Laptop friendly workspace  \\\n",
       "id                                                                     \n",
       "3895911     1        1                  1                          1   \n",
       "\n",
       "         Indoor fireplace  TV  Cable TV  \n",
       "id                                       \n",
       "3895911                 0   1         1  \n",
       "\n",
       "[1 rows x 28 columns]"
      ]
     },
     "execution_count": 24,
     "metadata": {},
     "output_type": "execute_result"
    }
   ],
   "source": [
    "test.head(1)"
   ]
  },
  {
   "cell_type": "code",
   "execution_count": 25,
   "id": "subtle-liechtenstein",
   "metadata": {},
   "outputs": [],
   "source": [
    "# Split into X, y, train/test\n",
    "\n",
    "target = 'log_price'\n",
    "y = train[target]\n",
    "X = train.drop(columns=target)\n",
    "\n",
    "X_train, X_test, y_train, y_test = train_test_split(X, y, test_size=0.33, random_state=42)"
   ]
  },
  {
   "cell_type": "code",
   "execution_count": 26,
   "id": "pleasant-respondent",
   "metadata": {},
   "outputs": [
    {
     "name": "stdout",
     "output_type": "stream",
     "text": [
      "Baseline MAE: 0.5596581463316458\n"
     ]
    }
   ],
   "source": [
    "# Linear Regression Baseline\n",
    "y_mean = [y_train.mean()] * len(y_train)\n",
    "\n",
    "baseline_mae = mean_absolute_error(y_train, y_mean)\n",
    "\n",
    "print('Baseline MAE:', baseline_mae)"
   ]
  },
  {
   "cell_type": "code",
   "execution_count": 27,
   "id": "composite-invalid",
   "metadata": {},
   "outputs": [],
   "source": [
    "# Categorical columns to OneHotEncode\n",
    "cat = X_train.select_dtypes(include=['object', 'bool']).columns\n",
    "\n",
    "# Integer/Float Columns to Scale\n",
    "num = X_train.select_dtypes(include=['int', 'float']).columns"
   ]
  },
  {
   "cell_type": "code",
   "execution_count": 28,
   "id": "pharmaceutical-logistics",
   "metadata": {},
   "outputs": [],
   "source": [
    "# sanity check\n",
    "assert len(cat) + len(num) == train.shape[1]-1, 'Column categories don\\'t equal df columns'"
   ]
  },
  {
   "cell_type": "code",
   "execution_count": 36,
   "id": "electrical-breeding",
   "metadata": {},
   "outputs": [],
   "source": [
    "model_lr = make_pipeline(\n",
    "    OneHotEncoder(handle_unknown='ignore'),\n",
    "    LinearRegression()\n",
    ")\n",
    "\n",
    "model_lr.fit(X_train, y_train);"
   ]
  },
  {
   "cell_type": "code",
   "execution_count": 37,
   "id": "acquired-lebanon",
   "metadata": {},
   "outputs": [
    {
     "name": "stdout",
     "output_type": "stream",
     "text": [
      "Linear Regression Model\n",
      "Training MAE: 0.32850936553567783\n",
      "Validation MAE: 0.3515381903885942\n",
      "R^2 Score: 0.6297182783267588\n"
     ]
    }
   ],
   "source": [
    "train_mae = mean_absolute_error(y_train, model_lr.predict(X_train))\n",
    "test_mae = mean_absolute_error(y_test, model_lr.predict(X_test))\n",
    "score = model_lr.score(X_train, y_train)\n",
    "\n",
    "print('Linear Regression Model')\n",
    "print('Training MAE:', train_mae)\n",
    "print('Validation MAE:', test_mae)\n",
    "print('R^2 Score:', score)"
   ]
  },
  {
   "cell_type": "markdown",
   "id": "destroyed-valley",
   "metadata": {},
   "source": [
    "## Linear Regression"
   ]
  },
  {
   "cell_type": "code",
   "execution_count": 38,
   "id": "isolated-minister",
   "metadata": {},
   "outputs": [],
   "source": [
    "# define model\n",
    "model = LinearRegression()\n",
    "# define transform\n",
    "transformer = ColumnTransformer(transformers=[('cat', OneHotEncoder(handle_unknown='ignore'), cat),\n",
    "                                             ('num', StandardScaler(), num)], remainder='passthrough')\n",
    "# define pipeline\n",
    "pipeline = Pipeline(steps=[('t', transformer), ('m',model)])\n",
    "# fit the pipeline on the transformed data\n",
    "pipeline.fit(X_train, y_train)\n",
    "# make predictions\n",
    "yhat = pipeline.predict(X_test)"
   ]
  },
  {
   "cell_type": "code",
   "execution_count": 39,
   "id": "trying-earthquake",
   "metadata": {
    "scrolled": false
   },
   "outputs": [
    {
     "name": "stdout",
     "output_type": "stream",
     "text": [
      "Linear Regression Model\n",
      "Training MAE: 0.34579558840364066\n",
      "Validation MAE: 2121766.133196058\n",
      "R^2 Score: 0.5910491227649668\n"
     ]
    }
   ],
   "source": [
    "#Gradient Boosting Model\n",
    "train_mae = mean_absolute_error(y_train, pipeline.predict(X_train))\n",
    "test_mae = mean_absolute_error(y_test, pipeline.predict(X_test))\n",
    "score = pipeline.score(X_train, y_train)\n",
    "\n",
    "print('Linear Regression Model')\n",
    "print('Training MAE:', train_mae)\n",
    "print('Validation MAE:', test_mae)\n",
    "print('R^2 Score:', score)"
   ]
  },
  {
   "cell_type": "markdown",
   "id": "stuck-bacon",
   "metadata": {},
   "source": [
    "## Gradient Boosting"
   ]
  },
  {
   "cell_type": "code",
   "execution_count": 40,
   "id": "split-retreat",
   "metadata": {},
   "outputs": [],
   "source": [
    "# define model\n",
    "model = GradientBoostingRegressor()\n",
    "# define transform\n",
    "transformer = ColumnTransformer(transformers=[('cat', OneHotEncoder(handle_unknown='ignore'), cat),\n",
    "                                             ('num', StandardScaler(), num)], remainder='passthrough')\n",
    "# define pipeline\n",
    "pipeline = Pipeline(steps=[('t', transformer), ('m',model)])\n",
    "# fit the pipeline on the transformed data\n",
    "pipeline.fit(X_train, y_train)\n",
    "# make predictions\n",
    "yhat = pipeline.predict(X_test)"
   ]
  },
  {
   "cell_type": "code",
   "execution_count": 41,
   "id": "conscious-pledge",
   "metadata": {
    "scrolled": true
   },
   "outputs": [
    {
     "name": "stdout",
     "output_type": "stream",
     "text": [
      "Linear Regression Model\n",
      "Training MAE: 0.33190747927388253\n",
      "Validation MAE: 0.33467449801991134\n",
      "R^2 Score: 0.6231389218388331\n"
     ]
    }
   ],
   "source": [
    "g_train_mae = mean_absolute_error(y_train, pipeline.predict(X_train))\n",
    "g_test_mae = mean_absolute_error(y_test, pipeline.predict(X_test))\n",
    "g_score = pipeline.score(X_train, y_train)\n",
    "\n",
    "print('Linear Regression Model')\n",
    "print('Training MAE:', g_train_mae)\n",
    "print('Validation MAE:', g_test_mae)\n",
    "print('R^2 Score:', g_score)"
   ]
  },
  {
   "cell_type": "markdown",
   "id": "scheduled-struggle",
   "metadata": {},
   "source": [
    "## Random Forrest Regressor"
   ]
  },
  {
   "cell_type": "code",
   "execution_count": 53,
   "id": "twenty-supplement",
   "metadata": {},
   "outputs": [],
   "source": [
    "# define model\n",
    "model = RandomForestRegressor(n_estimators=200,\n",
    "                              max_depth=20,\n",
    ")\n",
    "\n",
    "# define transform\n",
    "transformer = ColumnTransformer(transformers=[('cat', OneHotEncoder(handle_unknown='ignore'), cat),\n",
    "                                             ('num', StandardScaler(), num)], remainder='passthrough')\n",
    "# define pipeline\n",
    "pipeline = Pipeline(steps=[('t', transformer), ('m',model)])\n",
    "# fit the pipeline on the transformed data\n",
    "pipeline.fit(X_train, y_train)\n",
    "# make predictions\n",
    "yhat = pipeline.predict(X_test)"
   ]
  },
  {
   "cell_type": "code",
   "execution_count": 54,
   "id": "tamil-garbage",
   "metadata": {},
   "outputs": [
    {
     "name": "stdout",
     "output_type": "stream",
     "text": [
      "Random Forrest Regression Model\n",
      "Training MAE: 0.18631484160120906\n",
      "Validation MAE: 0.3274487835151864\n",
      "R^2 Score: 0.8833031167792813\n",
      "R^2 t Score: 0.6260824947154131\n"
     ]
    }
   ],
   "source": [
    "r_train_mae = mean_absolute_error(y_train, pipeline.predict(X_train))\n",
    "r_test_mae = mean_absolute_error(y_test, pipeline.predict(X_test))\n",
    "r_score = pipeline.score(X_train, y_train)\n",
    "r_score_t = pipeline.score(X_test, y_test)\n",
    "\n",
    "print('Random Forrest Regression Model')\n",
    "print('Training MAE:', r_train_mae)\n",
    "print('Validation MAE:', r_test_mae)\n",
    "print('R^2 Score:', r_score)\n",
    "print('R^2 t Score:', r_score_t)"
   ]
  },
  {
   "cell_type": "code",
   "execution_count": null,
   "id": "adapted-patrol",
   "metadata": {},
   "outputs": [],
   "source": [
    "from sklearn import metrics\n",
    "from sklearn.model_selection import cross_val_score\n",
    "scores = cross_val_score(pipeline, X_train, y_train, cv=5, scoring='f1_macro')"
   ]
  },
  {
   "cell_type": "code",
   "execution_count": null,
   "id": "wound-morocco",
   "metadata": {},
   "outputs": [],
   "source": [
    "scores"
   ]
  },
  {
   "cell_type": "code",
   "execution_count": null,
   "id": "economic-dealer",
   "metadata": {},
   "outputs": [],
   "source": [
    "print(\"%0.2f accuracy with a standard deviation of %0.2f\" % (scores.mean(), scores.std()))"
   ]
  },
  {
   "cell_type": "code",
   "execution_count": null,
   "id": "announced-hungarian",
   "metadata": {},
   "outputs": [],
   "source": []
  },
  {
   "cell_type": "code",
   "execution_count": 26,
   "id": "american-sympathy",
   "metadata": {},
   "outputs": [
    {
     "ename": "SyntaxError",
     "evalue": "invalid syntax (<ipython-input-26-61838df3723c>, line 3)",
     "output_type": "error",
     "traceback": [
      "\u001b[0;36m  File \u001b[0;32m\"<ipython-input-26-61838df3723c>\"\u001b[0;36m, line \u001b[0;32m3\u001b[0m\n\u001b[0;31m    RandomForestRegressor(),\u001b[0m\n\u001b[0m    ^\u001b[0m\n\u001b[0;31mSyntaxError\u001b[0m\u001b[0;31m:\u001b[0m invalid syntax\n"
     ]
    }
   ],
   "source": [
    "model_rr = make_pipeline(\n",
    "    OneHotEncoder()\n",
    "    RandomForestRegressor(),\n",
    ")\n",
    "\n",
    "model_lr.fit(X_train, y_train);"
   ]
  },
  {
   "cell_type": "code",
   "execution_count": null,
   "id": "jewish-forward",
   "metadata": {},
   "outputs": [],
   "source": []
  }
 ],
 "metadata": {
  "kernelspec": {
   "name": "python3",
   "display_name": "Python 3.8.5 64-bit ('airbnb_app': pipenv)",
   "metadata": {
    "interpreter": {
     "hash": "6f7628a801a2fb262aba93d5bd06f0e446192647146d176552ea5395b2acc76d"
    }
   }
  },
  "language_info": {
   "codemirror_mode": {
    "name": "ipython",
    "version": 3
   },
   "file_extension": ".py",
   "mimetype": "text/x-python",
   "name": "python",
   "nbconvert_exporter": "python",
   "pygments_lexer": "ipython3",
   "version": "3.8.5-final"
  }
 },
 "nbformat": 4,
 "nbformat_minor": 5
}