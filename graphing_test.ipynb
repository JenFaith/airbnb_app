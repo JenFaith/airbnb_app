{
 "metadata": {
  "language_info": {
   "codemirror_mode": {
    "name": "ipython",
    "version": 3
   },
   "file_extension": ".py",
   "mimetype": "text/x-python",
   "name": "python",
   "nbconvert_exporter": "python",
   "pygments_lexer": "ipython3",
   "version": "3.9.0-final"
  },
  "orig_nbformat": 2,
  "kernelspec": {
   "name": "python3",
   "display_name": "Python 3.9.0 64-bit",
   "metadata": {
    "interpreter": {
     "hash": "a2742fb1ec8ec3cbc3f5649403520b759ea743ffbc9612c8d68123df8c147a01"
    }
   }
  }
 },
 "nbformat": 4,
 "nbformat_minor": 2,
 "cells": [
  {
   "source": [
    "## A TEST FOR GEOPANDAS FUNCTIONALITY"
   ],
   "cell_type": "markdown",
   "metadata": {}
  },
  {
   "cell_type": "code",
   "execution_count": 20,
   "metadata": {},
   "outputs": [],
   "source": [
    "import pandas as pd\n",
    "import numpy as np\n",
    "import plotly.express as px\n",
    "import matplotlib.pyplot as plt \n"
   ]
  },
  {
   "cell_type": "code",
   "execution_count": 21,
   "metadata": {},
   "outputs": [],
   "source": [
    "df_tll = pd.read_csv('C:/Users/slups/Desktop/build_week/BW_Airbnb/airbnb_app/train_lat_long.csv')"
   ]
  },
  {
   "cell_type": "code",
   "execution_count": 22,
   "metadata": {},
   "outputs": [
    {
     "output_type": "execute_result",
     "data": {
      "text/plain": [
       "array(['NYC', 'SF', 'DC', 'LA', 'Chicago', 'Boston'], dtype=object)"
      ]
     },
     "metadata": {},
     "execution_count": 22
    }
   ],
   "source": [
    "df_tll['city'].unique()\n"
   ]
  },
  {
   "cell_type": "code",
   "execution_count": 23,
   "metadata": {},
   "outputs": [
    {
     "output_type": "execute_result",
     "data": {
      "text/plain": [
       "Index(['id', 'log_price', 'property_type', 'room_type', 'accommodates',\n",
       "       'bathrooms', 'bed_type', 'cancellation_policy', 'cleaning_fee', 'city',\n",
       "       'host_has_profile_pic', 'host_identity_verified', 'host_since',\n",
       "       'instant_bookable', 'latitude', 'longitude', 'review_scores_rating',\n",
       "       'bedrooms', 'beds', 'Wireless Internet', 'Air conditioning', 'Kitchen',\n",
       "       'Heating', 'Family/kid friendly', 'Hair dryer', 'Iron', 'Shampoo',\n",
       "       'Fire extinguisher', 'Laptop friendly workspace', 'Indoor fireplace',\n",
       "       'TV', 'Cable TV'],\n",
       "      dtype='object')"
      ]
     },
     "metadata": {},
     "execution_count": 23
    }
   ],
   "source": [
    "df_tll.columns\n"
   ]
  },
  {
   "cell_type": "code",
   "execution_count": 24,
   "metadata": {},
   "outputs": [],
   "source": [
    "df_tll.drop(columns=['room_type', 'accommodates', 'property_type', 'city',\n",
    "       'bathrooms', 'bed_type', 'cancellation_policy', 'cleaning_fee',\n",
    "       'host_has_profile_pic', 'host_identity_verified', 'host_since',\n",
    "       'instant_bookable', 'review_scores_rating', 'bedrooms', 'beds', 'Wireless Internet', 'Air conditioning', 'Kitchen',\n",
    "       'Heating', 'Family/kid friendly', 'Hair dryer', 'Iron', 'Shampoo',\n",
    "       'Fire extinguisher', 'Laptop friendly workspace', 'Indoor fireplace',\n",
    "       'TV', 'Cable TV'], axis=1, inplace=True)"
   ]
  },
  {
   "cell_type": "code",
   "execution_count": 25,
   "metadata": {},
   "outputs": [
    {
     "output_type": "execute_result",
     "data": {
      "text/plain": [
       "Index(['id', 'log_price', 'latitude', 'longitude'], dtype='object')"
      ]
     },
     "metadata": {},
     "execution_count": 25
    }
   ],
   "source": [
    "df_tll.columns"
   ]
  },
  {
   "cell_type": "code",
   "execution_count": 28,
   "metadata": {},
   "outputs": [
    {
     "output_type": "execute_result",
     "data": {
      "text/plain": [
       "             id  log_price   latitude   longitude\n",
       "71748  18077717   4.584967  34.020021 -118.498239\n",
       "71749   7935934   4.110874  34.199671 -118.618070\n",
       "71750  11829011   5.135798  37.789989 -122.407384\n",
       "71751  14934112   4.356709  41.909067  -87.623046\n",
       "71752    808802   4.248495  34.092640 -118.343921\n",
       "71753  14549287   4.605170  40.709025  -73.939405\n",
       "71754  13281809   5.043425  33.871549 -118.396053\n",
       "71755  18688039   5.220356  40.706749  -73.942377\n",
       "71756  17045948   5.273000  40.738535  -74.000157\n",
       "71757   3534845   4.852030  33.761096 -118.192409"
      ],
      "text/html": "<div>\n<style scoped>\n    .dataframe tbody tr th:only-of-type {\n        vertical-align: middle;\n    }\n\n    .dataframe tbody tr th {\n        vertical-align: top;\n    }\n\n    .dataframe thead th {\n        text-align: right;\n    }\n</style>\n<table border=\"1\" class=\"dataframe\">\n  <thead>\n    <tr style=\"text-align: right;\">\n      <th></th>\n      <th>id</th>\n      <th>log_price</th>\n      <th>latitude</th>\n      <th>longitude</th>\n    </tr>\n  </thead>\n  <tbody>\n    <tr>\n      <th>71748</th>\n      <td>18077717</td>\n      <td>4.584967</td>\n      <td>34.020021</td>\n      <td>-118.498239</td>\n    </tr>\n    <tr>\n      <th>71749</th>\n      <td>7935934</td>\n      <td>4.110874</td>\n      <td>34.199671</td>\n      <td>-118.618070</td>\n    </tr>\n    <tr>\n      <th>71750</th>\n      <td>11829011</td>\n      <td>5.135798</td>\n      <td>37.789989</td>\n      <td>-122.407384</td>\n    </tr>\n    <tr>\n      <th>71751</th>\n      <td>14934112</td>\n      <td>4.356709</td>\n      <td>41.909067</td>\n      <td>-87.623046</td>\n    </tr>\n    <tr>\n      <th>71752</th>\n      <td>808802</td>\n      <td>4.248495</td>\n      <td>34.092640</td>\n      <td>-118.343921</td>\n    </tr>\n    <tr>\n      <th>71753</th>\n      <td>14549287</td>\n      <td>4.605170</td>\n      <td>40.709025</td>\n      <td>-73.939405</td>\n    </tr>\n    <tr>\n      <th>71754</th>\n      <td>13281809</td>\n      <td>5.043425</td>\n      <td>33.871549</td>\n      <td>-118.396053</td>\n    </tr>\n    <tr>\n      <th>71755</th>\n      <td>18688039</td>\n      <td>5.220356</td>\n      <td>40.706749</td>\n      <td>-73.942377</td>\n    </tr>\n    <tr>\n      <th>71756</th>\n      <td>17045948</td>\n      <td>5.273000</td>\n      <td>40.738535</td>\n      <td>-74.000157</td>\n    </tr>\n    <tr>\n      <th>71757</th>\n      <td>3534845</td>\n      <td>4.852030</td>\n      <td>33.761096</td>\n      <td>-118.192409</td>\n    </tr>\n  </tbody>\n</table>\n</div>"
     },
     "metadata": {},
     "execution_count": 28
    }
   ],
   "source": [
    "df_tll.tail(10)"
   ]
  },
  {
   "cell_type": "code",
   "execution_count": 29,
   "metadata": {},
   "outputs": [
    {
     "output_type": "execute_result",
     "data": {
      "text/plain": [
       "(71758, 4)"
      ]
     },
     "metadata": {},
     "execution_count": 29
    }
   ],
   "source": [
    "df_tll.shape\n"
   ]
  },
  {
   "cell_type": "code",
   "execution_count": 30,
   "metadata": {},
   "outputs": [],
   "source": [
    "df_tll.drop(df_tll.tail(10000).index,inplace=True)"
   ]
  },
  {
   "cell_type": "code",
   "execution_count": 31,
   "metadata": {},
   "outputs": [
    {
     "output_type": "execute_result",
     "data": {
      "text/plain": [
       "(61758, 4)"
      ]
     },
     "metadata": {},
     "execution_count": 31
    }
   ],
   "source": [
    "df_tll.shape"
   ]
  },
  {
   "cell_type": "code",
   "execution_count": 32,
   "metadata": {},
   "outputs": [],
   "source": [
    "df_tll.drop(df_tll.head(11758).index,inplace=True)"
   ]
  },
  {
   "cell_type": "code",
   "execution_count": 34,
   "metadata": {},
   "outputs": [
    {
     "output_type": "execute_result",
     "data": {
      "text/plain": [
       "(50000, 4)"
      ]
     },
     "metadata": {},
     "execution_count": 34
    }
   ],
   "source": [
    "df_tll.shape"
   ]
  },
  {
   "cell_type": "code",
   "execution_count": 35,
   "metadata": {},
   "outputs": [],
   "source": [
    "df_tll.to_csv('graphing_train3.csv')"
   ]
  },
  {
   "cell_type": "code",
   "execution_count": null,
   "metadata": {},
   "outputs": [],
   "source": []
  }
 ]
}